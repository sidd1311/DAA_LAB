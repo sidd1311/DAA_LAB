{
 "cells": [
  {
   "cell_type": "code",
   "execution_count": 1,
   "id": "b6f2b3d0",
   "metadata": {},
   "outputs": [],
   "source": [
    "import time"
   ]
  },
  {
   "cell_type": "code",
   "execution_count": 2,
   "id": "5b41dbca",
   "metadata": {},
   "outputs": [],
   "source": [
    "def stringMatch(main, newmatch):\n",
    "    len1 = len(main)\n",
    "    len2 = len(newmatch)\n",
    "    matches = []\n",
    "    for i in range (len1 - len2 + 1):\n",
    "        match = True \n",
    "        for j in range(len2):\n",
    "              if text[i + j] != newmatch[j]:\n",
    "                match = False\n",
    "                break\n",
    "        if match:\n",
    "            matches.append(i)\n",
    "    return matches\n",
    "    "
   ]
  },
  {
   "cell_type": "code",
   "execution_count": 5,
   "id": "1a78fa4a",
   "metadata": {},
   "outputs": [
    {
     "name": "stdout",
     "output_type": "stream",
     "text": [
      "Naive Search: Pattern found at positions: [11]\n"
     ]
    }
   ],
   "source": [
    "text = \"abccbbababdabbbbaaa\"\n",
    "pattern = \"abbbbaaa\"\n",
    "matches = stringMatch(text, pattern)\n",
    "print(\"Naive Search: Pattern found at positions:\", matches)"
   ]
  },
  {
   "cell_type": "code",
   "execution_count": null,
   "id": "0a14262e",
   "metadata": {},
   "outputs": [],
   "source": []
  }
 ],
 "metadata": {
  "kernelspec": {
   "display_name": "Python 3 (ipykernel)",
   "language": "python",
   "name": "python3"
  },
  "language_info": {
   "codemirror_mode": {
    "name": "ipython",
    "version": 3
   },
   "file_extension": ".py",
   "mimetype": "text/x-python",
   "name": "python",
   "nbconvert_exporter": "python",
   "pygments_lexer": "ipython3",
   "version": "3.11.4"
  }
 },
 "nbformat": 4,
 "nbformat_minor": 5
}
